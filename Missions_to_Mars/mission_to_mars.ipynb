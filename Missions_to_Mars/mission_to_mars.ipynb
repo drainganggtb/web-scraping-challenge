{
 "cells": [
  {
   "cell_type": "code",
   "execution_count": 49,
   "metadata": {},
   "outputs": [],
   "source": [
    "# Dependencies and Setup\n",
    "from bs4 import BeautifulSoup as bs\n",
    "from splinter import Browser\n",
    "import pandas as pd\n",
    "import requests\n",
    "import time"
   ]
  },
  {
   "cell_type": "code",
   "execution_count": 50,
   "metadata": {},
   "outputs": [],
   "source": [
    "#Insert splinter path to chromedriver\n",
    "executable_path = {'executable_path': r\"C:\\chromedriver\"}\n",
    "browser = Browser('chrome', **executable_path, headless=False)"
   ]
  },
  {
   "cell_type": "code",
   "execution_count": null,
   "metadata": {},
   "outputs": [],
   "source": [
    "#All of these sites must be scraped\n",
    "news_url = 'https://mars.nasa.gov/news/'\n",
    "image_url = 'https://www.jpl.nasa.gov/spaceimages/?search=&category=Mars'\n",
    "weather_url = 'https://twitter.com/marswxreport?lang=en'\n",
    "facts_url = 'http://space-facts.com/mars/'\n",
    "hemispheres_url = 'https://astrogeology.usgs.gov/search/results?q=hemisphere+enhanced&k1=target&v1=Mars'"
   ]
  },
  {
   "cell_type": "code",
   "execution_count": 47,
   "metadata": {},
   "outputs": [
    {
     "name": "stdout",
     "output_type": "stream",
     "text": [
      "<a href=\"/news/8659/alabama-high-school-student-names-nasas-mars-helicopter/\">\n",
      "Alabama High School Student Names NASA's Mars Helicopter\n",
      "</a>\n",
      "-----------------------------------------\n",
      "<div class=\"article_teaser_body\">During this next phase, the program will mature critical technologies and make critical design decisions as well as assess industry partnerships.</div>\n"
     ]
    }
   ],
   "source": [
    "# #access NASA Mars page using splinter\n",
    "# news_url = 'https://mars.nasa.gov/news/'\n",
    "# browser.visit(news_url)\n",
    "\n",
    "# #html object\n",
    "# news_html = browser.html\n",
    "\n",
    "# #parse html using BeautifulSoup\n",
    "# soup = bs(news_html, 'html.parser')\n",
    "\n",
    "# news_p=soup.find('div', class_ = 'article_teaser_body')\n",
    "# news_t=soup.find('div', class_='slide')\n",
    "# news_ti=news_t.find('div', class_='content_title')\n",
    "# news_title=news_ti.find('a')\n",
    "# # Display scrapped news \n",
    "# print(news_title)\n",
    "# print(\"-----------------------------------------\")\n",
    "# print(news_p)"
   ]
  },
  {
   "cell_type": "code",
   "execution_count": 53,
   "metadata": {},
   "outputs": [],
   "source": [
    "#retrieve news page with requests module\n",
    "news_response = requests.get(news_url)\n",
    "#Create BeautifulSoup object\n",
    "soup=bs(news_response.text, 'html.parser')"
   ]
  },
  {
   "cell_type": "code",
   "execution_count": null,
   "metadata": {},
   "outputs": [],
   "source": []
  }
 ],
 "metadata": {
  "kernelspec": {
   "display_name": "Python [conda env:Python1] *",
   "language": "python",
   "name": "conda-env-Python1-py"
  },
  "language_info": {
   "codemirror_mode": {
    "name": "ipython",
    "version": 3
   },
   "file_extension": ".py",
   "mimetype": "text/x-python",
   "name": "python",
   "nbconvert_exporter": "python",
   "pygments_lexer": "ipython3",
   "version": "3.6.12"
  }
 },
 "nbformat": 4,
 "nbformat_minor": 4
}
